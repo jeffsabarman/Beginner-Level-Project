{
 "cells": [
  {
   "cell_type": "code",
   "execution_count": 16,
   "metadata": {},
   "outputs": [
    {
     "name": "stdout",
     "output_type": "stream",
     "text": [
      "Welcome to binary search algorithm!\n",
      "What number do you want to check? : 4\n",
      "[0, 2, 4, 6, 8, 10, 12, 14, 16, 18, 20, 22, 24, 26, 28, 30, 32, 34, 36, 38, 40, 42, 44, 46, 48, 50, 52, 54, 56, 58, 60, 62, 64, 66, 68, 70, 72, 74, 76, 78, 80, 82, 84, 86, 88, 90, 92, 94, 96, 98, 100]\n",
      "[0, 2, 4, 6, 8, 10, 12, 14, 16, 18, 20, 22, 24, 26, 28, 30, 32, 34, 36, 38, 40, 42, 44, 46, 48]\n",
      "[0, 2, 4, 6, 8, 10, 12, 14, 16, 18, 20, 22]\n",
      "[0, 2, 4, 6, 8, 10]\n",
      "[0, 2, 4]\n",
      "[2, 4]\n",
      "Here's your number location :  3\n"
     ]
    }
   ],
   "source": [
    "import random\n",
    "\n",
    "\n",
    "li = []\n",
    "b = []\n",
    "x = 0\n",
    "y = 0\n",
    "z = 0\n",
    "aa = 0\n",
    "\n",
    "print('Welcome to binary search algorithm!')\n",
    "for i in range(0,102,2):\n",
    "    b.append(i)\n",
    "    li.append(i)\n",
    "\n",
    "while aa == 0 :\n",
    "    ans = int(input('What number do you want to check? : '))\n",
    "    for i in b:\n",
    "        if i==ans:\n",
    "            print(b)\n",
    "            aa+=1\n",
    "    if aa== 0:\n",
    "        print('Ups! Your number is not on the list.')\n",
    "while x == 0:\n",
    "    c = b[int(len(b)/2)]\n",
    "    if c == ans:\n",
    "        print(\"Here's your number location : \", (li.index(ans))+1)\n",
    "        x+=1\n",
    "    elif ans>c:\n",
    "        for i in range(b[0],c,2):\n",
    "            b.remove(i)\n",
    "        print(b)\n",
    "        x==0\n",
    "    elif ans<c:\n",
    "        for i in range(c,(b[-1]+2),2):\n",
    "            b.remove(i)\n",
    "        print(b)\n",
    "        x==0\n",
    "    else:\n",
    "        pass\n",
    "            \n",
    "    "
   ]
  },
  {
   "cell_type": "code",
   "execution_count": 13,
   "metadata": {},
   "outputs": [
    {
     "data": {
      "text/plain": [
       "[1, 2]"
      ]
     },
     "execution_count": 13,
     "metadata": {},
     "output_type": "execute_result"
    }
   ],
   "source": [
    "a = [1,2,3,4,5]\n",
    "for i in range(3,(a[-1]+1)):\n",
    "    a.remove(i)\n",
    "a"
   ]
  },
  {
   "cell_type": "code",
   "execution_count": 48,
   "metadata": {},
   "outputs": [
    {
     "data": {
      "text/plain": [
       "[1, 2, 3, 4, 5]"
      ]
     },
     "execution_count": 48,
     "metadata": {},
     "output_type": "execute_result"
    }
   ],
   "source": [
    "a = [1,2,3,4,5]\n",
    "b = a\n",
    "b"
   ]
  },
  {
   "cell_type": "code",
   "execution_count": null,
   "metadata": {},
   "outputs": [],
   "source": []
  }
 ],
 "metadata": {
  "kernelspec": {
   "display_name": "Python 3",
   "language": "python",
   "name": "python3"
  }
 },
 "nbformat": 4,
 "nbformat_minor": 2
}
