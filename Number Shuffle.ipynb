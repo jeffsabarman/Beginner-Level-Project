{
 "cells": [
  {
   "cell_type": "code",
   "execution_count": 7,
   "metadata": {},
   "outputs": [
    {
     "name": "stdout",
     "output_type": "stream",
     "text": [
      "What's the number? : 5\n",
      "1\n",
      "3\n",
      "4\n",
      "2\n",
      "5\n"
     ]
    }
   ],
   "source": [
    "import random\n",
    "\n",
    "print('Welcome to number shuffle!')\n",
    "number = int(input(\"What's the number? : \"))\n",
    "b = []\n",
    "i = 0\n",
    "while i < (len(range(1,number))+1):\n",
    "    a = random.randint(1,number)\n",
    "    while a not in b:\n",
    "        print(a)\n",
    "        b.append(a)\n",
    "        i +=1"
   ]
  },
  {
   "cell_type": "code",
   "execution_count": 5,
   "metadata": {},
   "outputs": [
    {
     "name": "stdout",
     "output_type": "stream",
     "text": [
      "Welcome to number shuffle!\n",
      "What's the number? : 5\n",
      "4\n",
      "3\n",
      "1\n",
      "5\n",
      "2\n"
     ]
    }
   ],
   "source": [
    "import random\n",
    "from random import shuffle\n",
    "\n",
    "print('Welcome to number shuffle!')\n",
    "number = int(input(\"What's the number? : \"))\n",
    "b = []\n",
    "for i in range(1,number+1):\n",
    "    b.append(i)\n",
    "shuffle(b)\n",
    "for j in b:\n",
    "    print(j)"
   ]
  },
  {
   "cell_type": "code",
   "execution_count": null,
   "metadata": {},
   "outputs": [],
   "source": []
  }
 ],
 "metadata": {
  "kernelspec": {
   "display_name": "Python 3",
   "language": "python",
   "name": "python3"
  },
  "language_info": {
   "codemirror_mode": {
    "name": "ipython",
    "version": 3
   },
   "file_extension": ".py",
   "mimetype": "text/x-python",
   "name": "python",
   "nbconvert_exporter": "python",
   "pygments_lexer": "ipython3",
   "version": "3.7.3"
  }
 },
 "nbformat": 4,
 "nbformat_minor": 2
}
