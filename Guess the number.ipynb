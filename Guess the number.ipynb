{
 "cells": [
  {
   "cell_type": "code",
   "execution_count": 2,
   "metadata": {},
   "outputs": [
    {
     "name": "stdout",
     "output_type": "stream",
     "text": [
      "Welcome to guess the number!\n",
      "Guess the number : 3\n",
      "too small!\n",
      "Guess the number : 4\n",
      "too small!\n",
      "Guess the number : 66\n",
      "too big!\n",
      "Guess the number : 63\n",
      "too big!\n",
      "Guess the number : 55\n",
      "too big!\n",
      "Guess the number : 44\n",
      "too small!\n",
      "Guess the number : 45\n",
      "too small!\n",
      "Guess the number : 46\n",
      "too small!\n",
      "Guess the number : 47\n",
      "too small!\n",
      "Guess the number : 48\n",
      "too small!\n",
      "Guess the number : 49\n",
      "That's Correct!\n",
      "You are correct with 11 guesses!\n",
      "Do you want to play again? Y/N : y\n"
     ]
    },
    {
     "ename": "NameError",
     "evalue": "name 'clear' is not defined",
     "output_type": "error",
     "traceback": [
      "\u001b[1;31m---------------------------------------------------------------------------\u001b[0m",
      "\u001b[1;31mNameError\u001b[0m                                 Traceback (most recent call last)",
      "\u001b[1;32m<ipython-input-2-29e3d4a50f96>\u001b[0m in \u001b[0;36m<module>\u001b[1;34m\u001b[0m\n\u001b[0;32m     18\u001b[0m         \u001b[0mans2\u001b[0m \u001b[1;33m=\u001b[0m \u001b[0minput\u001b[0m \u001b[1;33m(\u001b[0m\u001b[1;34m\"Do you want to play again? Y/N : \"\u001b[0m\u001b[1;33m)\u001b[0m\u001b[1;33m\u001b[0m\u001b[1;33m\u001b[0m\u001b[0m\n\u001b[0;32m     19\u001b[0m         \u001b[1;32mif\u001b[0m \u001b[0mans2\u001b[0m\u001b[1;33m.\u001b[0m\u001b[0mupper\u001b[0m\u001b[1;33m(\u001b[0m\u001b[1;33m)\u001b[0m \u001b[1;33m==\u001b[0m \u001b[1;34m\"Y\"\u001b[0m \u001b[1;32mor\u001b[0m \u001b[0mans2\u001b[0m\u001b[1;33m.\u001b[0m\u001b[0mupper\u001b[0m\u001b[1;33m(\u001b[0m\u001b[1;33m)\u001b[0m \u001b[1;33m==\u001b[0m \u001b[1;34m\"YES\"\u001b[0m\u001b[1;33m:\u001b[0m\u001b[1;33m\u001b[0m\u001b[1;33m\u001b[0m\u001b[0m\n\u001b[1;32m---> 20\u001b[1;33m             \u001b[0mclear\u001b[0m\u001b[1;33m(\u001b[0m\u001b[1;33m)\u001b[0m\u001b[1;33m\u001b[0m\u001b[1;33m\u001b[0m\u001b[0m\n\u001b[0m\u001b[0;32m     21\u001b[0m             \u001b[0ma\u001b[0m \u001b[1;33m=\u001b[0m \u001b[0mrandom\u001b[0m\u001b[1;33m.\u001b[0m\u001b[0mrandint\u001b[0m\u001b[1;33m(\u001b[0m\u001b[1;36m1\u001b[0m\u001b[1;33m,\u001b[0m\u001b[1;36m10\u001b[0m\u001b[1;33m)\u001b[0m\u001b[1;33m\u001b[0m\u001b[1;33m\u001b[0m\u001b[0m\n\u001b[0;32m     22\u001b[0m             \u001b[0mb\u001b[0m \u001b[1;33m=\u001b[0m \u001b[1;36m0\u001b[0m\u001b[1;33m\u001b[0m\u001b[1;33m\u001b[0m\u001b[0m\n",
      "\u001b[1;31mNameError\u001b[0m: name 'clear' is not defined"
     ]
    }
   ],
   "source": [
    "import random\n",
    "print('Welcome to guess the number!')\n",
    "b = 1\n",
    "a = random.randint(1,50)\n",
    "while True:\n",
    "    ans = int(input(\"Guess the number : \"))\n",
    "    if ans > a:\n",
    "        print(\"too big!\")\n",
    "        b +=1\n",
    "        pass\n",
    "    elif ans < a:\n",
    "        print(\"too small!\")\n",
    "        b +=1\n",
    "        pass\n",
    "    elif ans == a:\n",
    "        print(\"That's Correct!\")\n",
    "        print(\"You are correct with \" + str(b) + \" guesses!\")\n",
    "        ans2 = input (\"Do you want to play again? Y/N : \")\n",
    "        if ans2.upper() == \"Y\" or ans2.upper() == \"YES\":\n",
    "            a = random.randint(1,10)\n",
    "            b = 0\n",
    "            pass\n",
    "        else:\n",
    "            print(\"Thanks for playing!\")\n",
    "            break\n",
    "    elif ans >10 or ans<0:\n",
    "        print(\"Out of range!\")\n",
    "        pass\n",
    "    else:\n",
    "        pass"
   ]
  },
  {
   "cell_type": "code",
   "execution_count": null,
   "metadata": {},
   "outputs": [],
   "source": []
  }
 ],
 "metadata": {
  "kernelspec": {
   "display_name": "Python 3",
   "language": "python",
   "name": "python3"
  },
  "language_info": {
   "codemirror_mode": {
    "name": "ipython",
    "version": 3
   },
   "file_extension": ".py",
   "mimetype": "text/x-python",
   "name": "python",
   "nbconvert_exporter": "python",
   "pygments_lexer": "ipython3",
   "version": "3.7.3"
  }
 },
 "nbformat": 4,
 "nbformat_minor": 2
}
