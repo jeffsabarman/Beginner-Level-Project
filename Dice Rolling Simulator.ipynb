{
 "cells": [
  {
   "cell_type": "code",
   "execution_count": 1,
   "metadata": {
    "scrolled": true
   },
   "outputs": [
    {
     "name": "stdout",
     "output_type": "stream",
     "text": [
      "4\n",
      "Do you want to roll again?\n",
      "Y/N : n\n",
      "Thank you for rolling the dice!\n"
     ]
    }
   ],
   "source": [
    "import random\n",
    "i = 0\n",
    "while i == 0:\n",
    "    a = random.randint(1,6)\n",
    "    print(a)\n",
    "    print(\"Do you want to roll again?\")\n",
    "    ans = input(\"Y/N : \")\n",
    "    if ans.upper() == \"YES\" or ans.upper() == \"Y\":\n",
    "        continue\n",
    "    else:\n",
    "        print(\"Thank you for rolling the dice!\")\n",
    "        break"
   ]
  },
  {
   "cell_type": "code",
   "execution_count": 2,
   "metadata": {},
   "outputs": [],
   "source": [
    "#random = inclusive, random.randint(1,6), 6 nya masuk.\n",
    "#kalo range, range(1,10), 10 nya ga masuk"
   ]
  }
 ],
 "metadata": {
  "kernelspec": {
   "display_name": "Python 3",
   "language": "python",
   "name": "python3"
  },
  "language_info": {
   "codemirror_mode": {
    "name": "ipython",
    "version": 3
   },
   "file_extension": ".py",
   "mimetype": "text/x-python",
   "name": "python",
   "nbconvert_exporter": "python",
   "pygments_lexer": "ipython3",
   "version": "3.7.3"
  }
 },
 "nbformat": 4,
 "nbformat_minor": 2
}
