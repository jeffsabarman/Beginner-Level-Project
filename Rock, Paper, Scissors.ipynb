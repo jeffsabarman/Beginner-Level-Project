{
 "cells": [
  {
   "cell_type": "code",
   "execution_count": 3,
   "metadata": {},
   "outputs": [
    {
     "name": "stdout",
     "output_type": "stream",
     "text": [
      "Welcome to Rock, Paper, Scissors game!\n",
      "You will be playing with a computer , the player who wins 3 round win the game!\n",
      "Here we go!\n",
      "\n",
      "\n",
      "A. Rock\n",
      "B. Paper\n",
      "C. Scissors\n",
      "Rock, paper, scissors? : a\n",
      "Computer choice :  Rock\n",
      "It's a tie!\n",
      "Player score :  0\n",
      "Computer score :  0\n",
      "\n",
      "\n",
      "A. Rock\n",
      "B. Paper\n",
      "C. Scissors\n",
      "Rock, paper, scissors? : a\n",
      "Computer choice :  Rock\n",
      "It's a tie!\n",
      "Player score :  0\n",
      "Computer score :  0\n",
      "\n",
      "\n",
      "A. Rock\n",
      "B. Paper\n",
      "C. Scissors\n",
      "Rock, paper, scissors? : a\n",
      "Computer choice :  Paper\n",
      "Oh no! You lose this round\n",
      "Player score :  0\n",
      "Computer score :  1\n",
      "\n",
      "\n",
      "A. Rock\n",
      "B. Paper\n",
      "C. Scissors\n",
      "Rock, paper, scissors? : a\n",
      "Computer choice :  Scissors\n",
      "Congratulation! You win this round!\n",
      "Player score :  1\n",
      "Computer score :  1\n",
      "\n",
      "\n",
      "A. Rock\n",
      "B. Paper\n",
      "C. Scissors\n",
      "Rock, paper, scissors? : k\n",
      "Please input A, B, or C according to the information above!\n",
      "Rock, paper, scissors? : a\n",
      "Computer choice :  Scissors\n",
      "Congratulation! You win this round!\n",
      "Player score :  2\n",
      "Computer score :  1\n",
      "\n",
      "\n",
      "A. Rock\n",
      "B. Paper\n",
      "C. Scissors\n",
      "Rock, paper, scissors? : b\n",
      "Computer choice :  Scissors\n",
      "Oh no! You lose this round\n",
      "Player score :  2\n",
      "Computer score :  2\n",
      "\n",
      "\n",
      "A. Rock\n",
      "B. Paper\n",
      "C. Scissors\n",
      "Rock, paper, scissors? : c\n",
      "Computer choice :  Rock\n",
      "Oh no! You lose this round\n",
      "Player score :  2\n",
      "Computer score :  3\n",
      "\n",
      "\n",
      "Computer won the game! Better luck next time!\n",
      "Do you want to play again : no\n",
      "Thanks for playing! See you next time!\n"
     ]
    }
   ],
   "source": [
    "import random\n",
    "\n",
    "print('Welcome to Rock, Paper, Scissors game!')\n",
    "print('You will be playing with a computer , the player who wins 3 round win the game!')\n",
    "print('Here we go!')\n",
    "\n",
    "i = 0\n",
    "player_win = 0\n",
    "comp_win = 0\n",
    "\n",
    "choice = ['Rock', 'Paper', 'Scissors']\n",
    "\n",
    "while True : \n",
    "    while True :\n",
    "        print('\\n')\n",
    "        print('A. Rock')\n",
    "        print('B. Paper')\n",
    "        print('C. Scissors')\n",
    "        while True:\n",
    "            ans = input('Rock, paper, scissors? : ')\n",
    "            if ans.lower() == 'a' or ans.lower() == 'b' or ans.lower() == 'c':\n",
    "                break\n",
    "            else:\n",
    "                print('Please input A, B, or C according to the information above!')\n",
    "                continue\n",
    "        comp = random.choice(choice)\n",
    "        print(\"Computer choice : \", comp)\n",
    "        if (ans.lower() == 'a' and comp == 'Rock') or (ans.lower() == 'b' and comp == 'Paper') or (ans.lower() == 'c' and comp == 'Scissors'):\n",
    "            print(\"It's a tie!\")\n",
    "            i+=1\n",
    "            print(\"Player score : \", player_win)\n",
    "            print(\"Computer score : \" ,comp_win)\n",
    "        elif (ans.lower() == 'a' and comp == 'Scissors') or (ans.lower() == 'b' and comp == 'Rock') or (ans.lower() == 'c' and comp == 'Paper'):\n",
    "            i+=1\n",
    "            print(\"Congratulation! You win this round!\")\n",
    "            player_win+=1\n",
    "            print(\"Player score : \", player_win)\n",
    "            print(\"Computer score : \" ,comp_win)\n",
    "            if player_win == 3:\n",
    "                print('\\n')\n",
    "                print('Congratulations! You won the game!')\n",
    "                print('You paly with the computer ', i, ' rounds')\n",
    "                break\n",
    "            else:\n",
    "                pass\n",
    "        elif (ans.lower() == 'a' and comp == 'Paper') or (ans.lower() == 'b' and comp == 'Scissors') or (ans.lower() == 'c' and comp == 'Rock'):\n",
    "            i+=1\n",
    "            print(\"Oh no! You lose this round\")\n",
    "            comp_win+=1\n",
    "            print(\"Player score : \", player_win)\n",
    "            print(\"Computer score : \" ,comp_win)\n",
    "            if comp_win == 3:\n",
    "                print('\\n')\n",
    "                print('Computer won the game! Better luck next time!')\n",
    "                break\n",
    "            else:\n",
    "                pass\n",
    "    play = input('Do you want to play again : ')\n",
    "    if play.lower() == 'y' or play.lower() == 'yes':\n",
    "        player_win = 0\n",
    "        comp_win = 0\n",
    "        i = 0\n",
    "        continue\n",
    "    else:\n",
    "        print('Thanks for playing! See you next time!')\n",
    "        break\n",
    "    \n",
    "    "
   ]
  },
  {
   "cell_type": "code",
   "execution_count": 4,
   "metadata": {},
   "outputs": [
    {
     "name": "stdout",
     "output_type": "stream",
     "text": [
      "my name is jeff\n"
     ]
    }
   ],
   "source": [
    "a = 'jeff'\n",
    "print('my name is', a)"
   ]
  },
  {
   "cell_type": "code",
   "execution_count": 5,
   "metadata": {},
   "outputs": [
    {
     "data": {
      "text/plain": [
       "True"
      ]
     },
     "execution_count": 5,
     "metadata": {},
     "output_type": "execute_result"
    }
   ],
   "source": [
    "a = True\n",
    "b = False\n",
    "a or b"
   ]
  },
  {
   "cell_type": "code",
   "execution_count": null,
   "metadata": {},
   "outputs": [],
   "source": []
  }
 ],
 "metadata": {
  "kernelspec": {
   "display_name": "Python 3",
   "language": "python",
   "name": "python3"
  },
  "language_info": {
   "codemirror_mode": {
    "name": "ipython",
    "version": 3
   },
   "file_extension": ".py",
   "mimetype": "text/x-python",
   "name": "python",
   "nbconvert_exporter": "python",
   "pygments_lexer": "ipython3",
   "version": "3.7.3"
  }
 },
 "nbformat": 4,
 "nbformat_minor": 2
}
