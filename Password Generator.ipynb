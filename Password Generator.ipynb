{
 "cells": [
  {
   "cell_type": "code",
   "execution_count": 32,
   "metadata": {},
   "outputs": [
    {
     "name": "stdout",
     "output_type": "stream",
     "text": [
      "Welcome to number password generator!\n",
      "What's the length of the password? : 7\n",
      "\n",
      "\n",
      "Here's your password : 9877774\n"
     ]
    }
   ],
   "source": [
    "import random\n",
    "i = 0\n",
    "j = 0\n",
    "b = []\n",
    "print(\"Welcome to number password generator!\")\n",
    "while i == 0:\n",
    "    length = int(input(\"What's the length of the password? : \"))\n",
    "    if length<6 :\n",
    "        print(\"Your password length has to be at least 6 number.\")\n",
    "        continue\n",
    "    else:\n",
    "        i+=1\n",
    "        \n",
    "while j < (len(range(1,length))+1):\n",
    "    num = random.randint(1,9)\n",
    "    b.append(num)\n",
    "    j+=1\n",
    "\n",
    "print('\\n')\n",
    "print (\"Here's your password : \" + \"\".join(str(i)for i in b))"
   ]
  },
  {
   "cell_type": "code",
   "execution_count": 34,
   "metadata": {},
   "outputs": [
    {
     "name": "stdout",
     "output_type": "stream",
     "text": [
      "Welcome to letter password generator!\n",
      "What's the length of the password? : 8\n",
      "\n",
      "\n",
      "Here's your password : efcwnaIz\n"
     ]
    }
   ],
   "source": [
    "import random\n",
    "import string\n",
    "x = 0\n",
    "y = 0\n",
    "c = []\n",
    "print(\"Welcome to letter password generator!\")\n",
    "while x == 0:\n",
    "    length = int(input(\"What's the length of the password? : \"))\n",
    "    if length<6 :\n",
    "        print(\"Your password length has to be at least 6 letter.\")\n",
    "        continue\n",
    "    else:\n",
    "        x+=1\n",
    "\n",
    "while y < (len(range(1,length))+1):\n",
    "    alpha = random.choice(string.ascii_letters)\n",
    "    c.append(alpha)\n",
    "    y+=1\n",
    "\n",
    "print('\\n')\n",
    "print (\"Here's your password : \" + \"\".join(str(i)for i in c))"
   ]
  },
  {
   "cell_type": "code",
   "execution_count": 35,
   "metadata": {},
   "outputs": [],
   "source": [
    "import string\n",
    "#help(string)"
   ]
  },
  {
   "cell_type": "code",
   "execution_count": 21,
   "metadata": {},
   "outputs": [
    {
     "name": "stdout",
     "output_type": "stream",
     "text": [
      "Welcome to random password generator!\n",
      "Enter the password length : 6\n",
      "How many numbers would you like? : 3\n",
      "How many alphabet would you like? : 2\n",
      "How many symbol would you like? : 1\n",
      "\n",
      "\n",
      "Here's your password : y3?2S5\n",
      "\n",
      "\n",
      "Do you want another password? : n\n",
      "Enjoy your password!\n"
     ]
    }
   ],
   "source": [
    "import random\n",
    "import string\n",
    "from random import shuffle\n",
    "\n",
    "#for while loop input\n",
    "h=0\n",
    "i=0\n",
    "j=0\n",
    "\n",
    "\n",
    "pw = []\n",
    "\n",
    "print(\"Welcome to random password generator!\")\n",
    "\n",
    "while h==0:\n",
    "    i=0\n",
    "    j=0\n",
    "    k=0\n",
    "    l=0\n",
    "    m=0\n",
    "    while i == 0 :\n",
    "        length = int(input(\"Enter the password length : \"))\n",
    "        if length<6 or length>20:\n",
    "            print(\"Your password length has to be at least 6 digits and maximum 20 digits.\")\n",
    "            print('\\n')\n",
    "            continue\n",
    "        else:\n",
    "            i+=1\n",
    "        while j == 0:\n",
    "            num = int(input(\"How many numbers would you like? : \"))\n",
    "            alpha = int(input(\"How many alphabet would you like? : \"))\n",
    "            sym = int(input(\"How many symbol would you like? : \"))\n",
    "            if num+alpha+sym == length:\n",
    "                j+=1\n",
    "            else:\n",
    "                print(\"Your length and number of number,alphabet, and symbol don't match!\")\n",
    "                print('\\n')\n",
    "                j=0\n",
    "                continue\n",
    "\n",
    "    if num > 0:\n",
    "        while k < len(range(0,num)):\n",
    "            a = random.randint(0,9)\n",
    "            pw.append(a)\n",
    "            k+=1\n",
    "    else:\n",
    "        pass\n",
    "    if alpha > 0:\n",
    "        while l < len(range(0,alpha)):\n",
    "            b = random.choice(string.ascii_letters)\n",
    "            pw.append(b)\n",
    "            l+=1\n",
    "    else:\n",
    "        pass\n",
    "    if sym > 0:\n",
    "        while m < len(range(0,sym)):\n",
    "            c = random.choice(string.punctuation)\n",
    "            pw.append(c)\n",
    "            m+=1\n",
    "    else:\n",
    "        pass\n",
    "\n",
    "    shuffle(pw)\n",
    "    print(\"\\n\")\n",
    "    print (\"Here's your password : \" + \"\".join(str(i)for i in pw))\n",
    "    print('\\n')\n",
    "    ans = input(\"Do you want another password? : \")\n",
    "    if ans.lower() == \"y\" or ans.lower() == \"yes\":\n",
    "        continue\n",
    "    else:\n",
    "        print(\"Enjoy your password!\")\n",
    "        h+=1\n",
    "    "
   ]
  },
  {
   "cell_type": "code",
   "execution_count": null,
   "metadata": {},
   "outputs": [],
   "source": []
  }
 ],
 "metadata": {
  "kernelspec": {
   "display_name": "Python 3",
   "language": "python",
   "name": "python3"
  },
  "language_info": {
   "codemirror_mode": {
    "name": "ipython",
    "version": 3
   },
   "file_extension": ".py",
   "mimetype": "text/x-python",
   "name": "python",
   "nbconvert_exporter": "python",
   "pygments_lexer": "ipython3",
   "version": "3.7.3"
  }
 },
 "nbformat": 4,
 "nbformat_minor": 2
}
